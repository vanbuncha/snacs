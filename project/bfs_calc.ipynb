{
 "cells": [
  {
   "cell_type": "code",
   "execution_count": 1,
   "metadata": {},
   "outputs": [],
   "source": [
    "import numpy as np\n",
    "import networkx as nx\n",
    "import matplotlib.pyplot as plt\n",
    "import csv\n",
    "import pandas as pd\n",
    "import random\n",
    "from random import choice\n",
    "from random import sample\n",
    "from itertools import combinations\n",
    "import random\n",
    "import metis "
   ]
  },
  {
   "cell_type": "code",
   "execution_count": 2,
   "metadata": {},
   "outputs": [],
   "source": [
    "import time\n",
    "\n",
    "def compute_bfs(graph, start_node):\n",
    "    \"\"\"\n",
    "    Computes the Breadth-First Search (BFS) traversal of a graph and measures the time taken.\n",
    "\n",
    "    Parameters:\n",
    "    graph (networkx.Graph): The input graph.\n",
    "    start_node (node): The node from which to start the BFS.\n",
    "\n",
    "    Returns:\n",
    "    list: The BFS traversal of the graph.\n",
    "    float: The time taken to perform the BFS.\n",
    "    \"\"\"\n",
    "    start_time = time.time()\n",
    "    bfs_traversal = list(nx.bfs_tree(graph, start_node))\n",
    "    end_time = time.time()\n",
    "    time_taken = end_time - start_time\n",
    "\n",
    "    return bfs_traversal, time_taken\n",
    "\n",
    "# Usage:\n",
    "# G_DBLP is your graph and 'node1' is the starting node for BFS\n",
    "# bfs_traversal, time_taken = compute_bfs(G_DBLP, 'node1')\n",
    "# print(\"BFS Traversal: \", bfs_traversal)\n",
    "# print(\"Time Taken: \", time_taken)"
   ]
  },
  {
   "cell_type": "markdown",
   "metadata": {},
   "source": [
    "# Graph init"
   ]
  },
  {
   "cell_type": "code",
   "execution_count": 4,
   "metadata": {},
   "outputs": [
    {
     "name": "stdout",
     "output_type": "stream",
     "text": [
      "number of edges in dblp.tsv: 1049866\n",
      "number of nodes in dblp.tsv: 317080\n",
      "True\n"
     ]
    }
   ],
   "source": [
    "# grap init\n",
    "G_dblp = nx.Graph()\n",
    "\n",
    "\n",
    "# dblp.tsv\n",
    "with open('data/dblp/com-dblp/out.com-dblp.tsv', 'r') as file:\n",
    "    for line in file:\n",
    "        source, target = line.strip().split(' ')\n",
    "        G_dblp.add_edge(int(source), int(target))\n",
    "\n",
    "num_edges = G_dblp.number_of_edges()\n",
    "num_nodes = G_dblp.number_of_nodes()\n",
    "\n",
    "\n",
    "print(\"number of edges in dblp.tsv:\", num_edges)\n",
    "print(\"number of nodes in dblp.tsv:\", num_nodes)\n",
    "print(nx.is_connected(G_dblp))\n"
   ]
  },
  {
   "cell_type": "code",
   "execution_count": 5,
   "metadata": {},
   "outputs": [
    {
     "name": "stdout",
     "output_type": "stream",
     "text": [
      "number of edges in dblp.tsv: 6797557\n",
      "number of nodes in dblp.tsv: 168114\n",
      "True\n"
     ]
    }
   ],
   "source": [
    "# Read the CSV file into a DataFrame\n",
    "file_path = 'data/twitch_gamers/large_twitch_edges.csv'\n",
    "df = pd.read_csv(file_path)\n",
    "\n",
    "# Initialize the graph\n",
    "G_twitch = nx.Graph()\n",
    "\n",
    "# Add edges from the DataFrame\n",
    "G_twitch.add_edges_from(df.values)\n",
    "\n",
    "# Get the number of edges and nodes\n",
    "num_edges = G_twitch.number_of_edges()\n",
    "num_nodes = G_twitch.number_of_nodes()\n",
    "\n",
    "print(\"number of edges in dblp.tsv:\", num_edges)\n",
    "print(\"number of nodes in dblp.tsv:\", num_nodes)\n",
    "print(nx.is_connected(G_twitch))\n"
   ]
  },
  {
   "cell_type": "code",
   "execution_count": 6,
   "metadata": {},
   "outputs": [
    {
     "name": "stdout",
     "output_type": "stream",
     "text": [
      "Number of undirected edges: 819306\n",
      "Number of undirected nodes: 50515\n",
      "True\n"
     ]
    }
   ],
   "source": [
    "# Read the CSV file into a DataFrame\n",
    "file_path = 'data/facebook_clean_data/artist_edges.csv'\n",
    "df = pd.read_csv(file_path)\n",
    "\n",
    "# Initialize the graph\n",
    "G_facebook = nx.Graph()\n",
    "\n",
    "# Add edges from the DataFrame\n",
    "G_facebook.add_edges_from(df.values)\n",
    "\n",
    "# Get the number of edges and nodes\n",
    "num_edges = G_facebook.number_of_edges()\n",
    "num_nodes = G_facebook.number_of_nodes()\n",
    "\n",
    "print(\"Number of undirected edges:\", num_edges)\n",
    "print(\"Number of undirected nodes:\", num_nodes)\n",
    "print(nx.is_connected(G_facebook))\n"
   ]
  },
  {
   "cell_type": "code",
   "execution_count": 7,
   "metadata": {},
   "outputs": [
    {
     "name": "stdout",
     "output_type": "stream",
     "text": [
      "Number of edges in undirected LWCC: 2777419\n",
      "Number of nodes in undirected LWCC: 1402673\n",
      "True\n"
     ]
    }
   ],
   "source": [
    "# Initialize Hyves graph\n",
    "G_hyves_full = nx.DiGraph()  # Use DiGraph for directed graph\n",
    "\n",
    "# hyves/out.tsv\n",
    "file_path = 'data/hyves/out.tsv'\n",
    "with open(file_path, 'r') as file:\n",
    "    # Skip the header line\n",
    "    next(file)\n",
    "    \n",
    "    for line in file:\n",
    "        source, target = map(int, line.strip().split())\n",
    "        G_hyves_full.add_edge(source, target)\n",
    "\n",
    "# Find weakly connected components\n",
    "weakly_connected_components = list(nx.weakly_connected_components(G_hyves_full))\n",
    "\n",
    "# Find the Largest Weakly Connected Component (LWCC)\n",
    "lwcc = max(weakly_connected_components, key=len)\n",
    "\n",
    "# Create a subgraph for the LWCC\n",
    "G_hyves = G_hyves_full.subgraph(lwcc)\n",
    "\n",
    "# Convert the LWCC subgraph to an undirected graph\n",
    "G_hyves = G_hyves.to_undirected()\n",
    "\n",
    "# Get the number of edges and nodes in the undirected LWCC\n",
    "num_lwcc_undirected_edges = G_hyves.number_of_edges()\n",
    "num_lwcc_undirected_nodes = G_hyves.number_of_nodes()\n",
    "\n",
    "print(\"Number of edges in undirected LWCC:\", num_lwcc_undirected_edges)\n",
    "print(\"Number of nodes in undirected LWCC:\", num_lwcc_undirected_nodes)\n",
    "print(nx.is_connected(G_hyves))\n",
    "\n"
   ]
  },
  {
   "cell_type": "code",
   "execution_count": 8,
   "metadata": {},
   "outputs": [
    {
     "name": "stdout",
     "output_type": "stream",
     "text": [
      "Number of edges in undirected LWCC: 5448486\n",
      "Number of nodes in undirected LWCC: 148826\n",
      "True\n"
     ]
    }
   ],
   "source": [
    "\n",
    "\n",
    "# Initialize Hyves graph\n",
    "G_petser_full = nx.DiGraph()  # Use DiGraph for directed graph\n",
    "\n",
    "# hyves/out.tsv\n",
    "file_path = 'data/petster-friendships-cat/out.tsv'\n",
    "with open(file_path, 'r') as file:\n",
    "    # Skip the header line\n",
    "    next(file)\n",
    "    \n",
    "    for line in file:\n",
    "        source, target = map(int, line.strip().split())\n",
    "        G_petser_full.add_edge(source, target)\n",
    "\n",
    "# Find weakly connected components\n",
    "weakly_connected_components = list(nx.weakly_connected_components(G_petser_full))\n",
    "\n",
    "# Find the Largest Weakly Connected Component (LWCC)\n",
    "lwcc = max(weakly_connected_components, key=len)\n",
    "\n",
    "# Create a subgraph for the LWCC\n",
    "G_petser = G_petser_full.subgraph(lwcc)\n",
    "\n",
    "# Convert the LWCC subgraph to an undirected graph\n",
    "G_petser = G_petser.to_undirected()\n",
    "\n",
    "# Get the number of edges and nodes in the undirected LWCC\n",
    "num_lwcc_undirected_edges = G_petser.number_of_edges()\n",
    "num_lwcc_undirected_nodes = G_petser.number_of_nodes()\n",
    "\n",
    "print(\"Number of edges in undirected LWCC:\", num_lwcc_undirected_edges)\n",
    "print(\"Number of nodes in undirected LWCC:\", num_lwcc_undirected_nodes)\n",
    "print(nx.is_connected(G_petser))\n",
    "\n"
   ]
  },
  {
   "cell_type": "markdown",
   "metadata": {},
   "source": [
    "# BFS time"
   ]
  },
  {
   "cell_type": "code",
   "execution_count": 11,
   "metadata": {},
   "outputs": [
    {
     "name": "stdout",
     "output_type": "stream",
     "text": [
      "Time Taken:  6.478215932846069\n"
     ]
    }
   ],
   "source": [
    "# Assuming G_DBLP is your graph\n",
    "bfs_traversal, time_taken = compute_bfs(G_dblp, 1)\n",
    "print(\"Time Taken: \", time_taken)"
   ]
  },
  {
   "cell_type": "code",
   "execution_count": 12,
   "metadata": {},
   "outputs": [
    {
     "name": "stdout",
     "output_type": "stream",
     "text": [
      "Time Taken:  2.4345648288726807\n"
     ]
    }
   ],
   "source": [
    "# Assuming G_DBLP is your graph\n",
    "bfs_traversal, time_taken = compute_bfs(G_twitch, 1)\n",
    "print(\"Time Taken: \", time_taken)"
   ]
  },
  {
   "cell_type": "code",
   "execution_count": 13,
   "metadata": {},
   "outputs": [
    {
     "name": "stdout",
     "output_type": "stream",
     "text": [
      "Time Taken:  6.439209938049316\n"
     ]
    }
   ],
   "source": [
    "# Assuming G_DBLP is your graph\n",
    "bfs_traversal, time_taken = compute_bfs(G_facebook, 1)\n",
    "print(\"Time Taken: \", time_taken)"
   ]
  },
  {
   "cell_type": "code",
   "execution_count": 14,
   "metadata": {},
   "outputs": [
    {
     "name": "stdout",
     "output_type": "stream",
     "text": [
      "Time Taken:  25.322427988052368\n"
     ]
    }
   ],
   "source": [
    "# Assuming G_DBLP is your graph\n",
    "bfs_traversal, time_taken = compute_bfs(G_hyves, 1)\n",
    "print(\"Time Taken: \", time_taken)"
   ]
  },
  {
   "cell_type": "code",
   "execution_count": 15,
   "metadata": {},
   "outputs": [
    {
     "name": "stdout",
     "output_type": "stream",
     "text": [
      "Time Taken:  1.0410609245300293\n"
     ]
    }
   ],
   "source": [
    "# Assuming G_DBLP is your graph\n",
    "bfs_traversal, time_taken = compute_bfs(G_petser, 1)\n",
    "print(\"Time Taken: \", time_taken)"
   ]
  }
 ],
 "metadata": {
  "kernelspec": {
   "display_name": "snacs_project",
   "language": "python",
   "name": "python3"
  },
  "language_info": {
   "codemirror_mode": {
    "name": "ipython",
    "version": 3
   },
   "file_extension": ".py",
   "mimetype": "text/x-python",
   "name": "python",
   "nbconvert_exporter": "python",
   "pygments_lexer": "ipython3",
   "version": "3.10.0"
  }
 },
 "nbformat": 4,
 "nbformat_minor": 2
}
