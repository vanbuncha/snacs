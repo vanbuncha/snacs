{
 "cells": [
  {
   "cell_type": "code",
   "execution_count": 2,
   "metadata": {},
   "outputs": [],
   "source": [
    "import numpy as np\n",
    "import networkx as nx\n",
    "import matplotlib.pyplot as plt\n",
    "import csv\n",
    "import pandas as pd\n",
    "import random\n",
    "from random import choice\n",
    "from random import sample\n",
    "\n",
    "import metis # lulz\n"
   ]
  },
  {
   "cell_type": "markdown",
   "metadata": {},
   "source": [
    "# Data load"
   ]
  },
  {
   "cell_type": "code",
   "execution_count": 3,
   "metadata": {},
   "outputs": [
    {
     "name": "stdout",
     "output_type": "stream",
     "text": [
      "number of directed edges in dblp.tsv: 1049866\n",
      "number of directed nodes in dblp.tsv: 317080\n"
     ]
    }
   ],
   "source": [
    "# grap init\n",
    "G_dblp = nx.Graph()\n",
    "\n",
    "\n",
    "# dblp.tsv\n",
    "with open('data/dblp/com-dblp/out.com-dblp.tsv', 'r') as file:\n",
    "    for line in file:\n",
    "        source, target = line.strip().split(' ')\n",
    "        G_dblp.add_edge(int(source), int(target))\n",
    "\n",
    "num_edges = G_dblp.number_of_edges()\n",
    "num_nodes = G_dblp.number_of_nodes()\n",
    "\n",
    "\n",
    "print(\"number of directed edges in dblp.tsv:\", num_edges)\n",
    "print(\"number of directed nodes in dblp.tsv:\", num_nodes)"
   ]
  },
  {
   "cell_type": "markdown",
   "metadata": {},
   "source": [
    "## Choosing random nodes for landmark"
   ]
  },
  {
   "cell_type": "code",
   "execution_count": 4,
   "metadata": {},
   "outputs": [
    {
     "name": "stdout",
     "output_type": "stream",
     "text": [
      "Landmark List: [136786, 257310, 160540, 199718, 164810, 27307, 114520, 260305, 54324, 242326, 157636, 179152, 188408, 144990, 102525, 148168, 23672, 14315, 286873, 193936, 152924, 288644, 75313, 309922, 302278, 270050, 192816, 205189, 212542, 43762, 82164, 273447, 71028, 71488, 255899, 224929, 255254, 45947, 148521, 123747, 151979, 71598, 265746, 135225, 137722, 233971, 234533, 126223, 72038, 114922, 215910, 49116, 107988, 287272, 277843, 260154, 222109, 205296, 177097, 126282, 294830, 221155, 215089, 230684, 53119, 213133, 138260, 74238, 246977, 316783, 45301, 40731, 249686, 25225, 272791, 164271, 273206, 177999, 157934, 115250, 20008, 246719, 280812, 99937, 177862, 162377, 172717, 151859, 109826, 140770, 31920, 13337, 29863, 299147, 25118, 78782, 200134, 295630, 40822, 26701]\n"
     ]
    }
   ],
   "source": [
    "def generate_landmark_list(graph, num_landmarks=20):\n",
    "    \"\"\"\n",
    "    Generate a list of random landmarks from the given graph.\n",
    "\n",
    "    Parameters:\n",
    "    - graph: NetworkX graph\n",
    "    - num_landmarks: Number of landmarks to generate (default is 20)\n",
    "    Returns:\n",
    "    - landmark_list: List of random landmarks\n",
    "    \"\"\"\n",
    "    landmark_list = []\n",
    "\n",
    "    for i in range(num_landmarks):\n",
    "        random_node = choice(list(graph.nodes()))\n",
    "        if random_node not in landmark_list:\n",
    "            landmark_list.append(random_node)\n",
    "\n",
    "    return landmark_list\n",
    "\n",
    "# Example usage:\n",
    "\n",
    "\n",
    "landmark_list = generate_landmark_list(G_dblp, num_landmarks=100)\n",
    "print(\"Landmark List:\", landmark_list)\n"
   ]
  },
  {
   "cell_type": "markdown",
   "metadata": {},
   "source": [
    "## Calculating each node's degree"
   ]
  },
  {
   "cell_type": "code",
   "execution_count": 5,
   "metadata": {},
   "outputs": [
    {
     "name": "stdout",
     "output_type": "stream",
     "text": [
      "The degree of node 3336 is 343\n",
      "The degree of node 3345 is 296\n",
      "The degree of node 167 is 290\n",
      "The degree of node 14690 is 269\n",
      "The degree of node 13941 is 264\n",
      "The degree of node 30095 is 244\n",
      "The degree of node 13842 is 230\n",
      "The degree of node 865 is 227\n",
      "The degree of node 3298 is 225\n",
      "The degree of node 13811 is 221\n",
      "The degree of node 15326 is 219\n",
      "The degree of node 3346 is 218\n",
      "The degree of node 3326 is 218\n",
      "The degree of node 1827 is 215\n",
      "The degree of node 1833 is 215\n",
      "The degree of node 13953 is 215\n",
      "The degree of node 45 is 208\n",
      "The degree of node 7227 is 207\n",
      "The degree of node 2486 is 201\n",
      "The degree of node 6319 is 201\n"
     ]
    }
   ],
   "source": [
    "# WITH REGARD OR AREA REPULSION\n",
    "# Top 20 degree nodes regardless of area of repulsion\n",
    "N = 20\n",
    "\n",
    "# Get the top nodes with the highest degree\n",
    "top_nodes_degree = [node for node in sorted(G_dblp.nodes(), key=G_dblp.degree, reverse=True)][:N]\n",
    "\n",
    "# Print the degree for each of the top nodes\n",
    "for node in top_nodes_degree:\n",
    "    node_degree = G_dblp.degree(node)\n",
    "    print(f\"The degree of node {node} is {node_degree}\")\n",
    "\n"
   ]
  },
  {
   "cell_type": "code",
   "execution_count": 19,
   "metadata": {},
   "outputs": [
    {
     "data": {
      "text/plain": [
       "[3336,\n",
       " 14690,\n",
       " 13941,\n",
       " 30095,\n",
       " 13842,\n",
       " 865,\n",
       " 13811,\n",
       " 15326,\n",
       " 1827,\n",
       " 1833,\n",
       " 45,\n",
       " 27138,\n",
       " 1448,\n",
       " 9401,\n",
       " 7007,\n",
       " 9800,\n",
       " 10278,\n",
       " 3300,\n",
       " 2006,\n",
       " 66102]"
      ]
     },
     "execution_count": 19,
     "metadata": {},
     "output_type": "execute_result"
    }
   ],
   "source": [
    "def calculate_degree_centrality(graph, N=20):\n",
    "    \"\"\"\n",
    "    Get the top nodes with the highest degree in the graph.\n",
    "\n",
    "    Parameters:\n",
    "    - graph: NetworkX graph\n",
    "    - N: Number of top nodes to retrieve (default is 20)\n",
    "    \"\"\"\n",
    "    selected_nodes = []\n",
    "    top_nodes_degree = [node for node in sorted(graph.nodes(), key=graph.degree, reverse=True)]\n",
    "\n",
    "    for node in top_nodes_degree:\n",
    "        if not any(prev_node in graph.neighbors(node) for prev_node in selected_nodes):\n",
    "            selected_nodes.append(node)\n",
    "            if len(selected_nodes) == N:\n",
    "                break\n",
    "\n",
    "    # for node in selected_nodes:\n",
    "    #     print(f'Node: {node}, Degree: {graph.degree(node)}')\n",
    "    return selected_nodes\n",
    "\n",
    "# Example usage:\n",
    "calculate_degree_centrality(G_dblp)\n"
   ]
  },
  {
   "cell_type": "markdown",
   "metadata": {},
   "source": [
    "## Calculate each's node closeness centrality (approximation)"
   ]
  },
  {
   "cell_type": "code",
   "execution_count": 7,
   "metadata": {},
   "outputs": [],
   "source": [
    "def approximate_closeness_centrality(graph, num_seeds):\n",
    "    # Select a sample of random seed nodes\n",
    "    seed_nodes = random.sample(list(graph.nodes()), num_seeds)\n",
    "\n",
    "    # Initialize the closeness centrality dictionary\n",
    "    approx_closeness_centrality = {node: 0.0 for node in graph.nodes()}\n",
    "\n",
    "    # Perform BFS computations from each seed node\n",
    "    for seed_node in seed_nodes:\n",
    "        distances = nx.single_source_shortest_path_length(graph, seed_node)\n",
    "        for node, distance in distances.items():\n",
    "            approx_closeness_centrality[node] += distance\n",
    "\n",
    "    # Normalize the closeness centrality by the number of seed nodes\n",
    "    for node in graph.nodes():\n",
    "        approx_closeness_centrality[node] /= num_seeds\n",
    "\n",
    "    return approx_closeness_centrality"
   ]
  },
  {
   "cell_type": "code",
   "execution_count": 8,
   "metadata": {},
   "outputs": [
    {
     "name": "stdout",
     "output_type": "stream",
     "text": [
      "The approximate closeness centrality of node 15326 is 4.55\n",
      "The approximate closeness centrality of node 9401 is 4.75\n",
      "The approximate closeness centrality of node 7438 is 4.8\n",
      "The approximate closeness centrality of node 167 is 4.8\n",
      "The approximate closeness centrality of node 1197 is 4.85\n",
      "The approximate closeness centrality of node 1642 is 4.85\n",
      "The approximate closeness centrality of node 5087 is 4.85\n",
      "The approximate closeness centrality of node 1448 is 4.9\n",
      "The approximate closeness centrality of node 2977 is 4.9\n",
      "The approximate closeness centrality of node 6319 is 4.9\n",
      "The approximate closeness centrality of node 35862 is 4.9\n",
      "The approximate closeness centrality of node 2024 is 4.95\n",
      "The approximate closeness centrality of node 864 is 4.95\n",
      "The approximate closeness centrality of node 480 is 4.95\n",
      "The approximate closeness centrality of node 8623 is 4.95\n",
      "The approximate closeness centrality of node 21005 is 5.0\n",
      "The approximate closeness centrality of node 912 is 5.0\n",
      "The approximate closeness centrality of node 13842 is 5.0\n",
      "The approximate closeness centrality of node 7106 is 5.0\n",
      "The approximate closeness centrality of node 6574 is 5.0\n"
     ]
    }
   ],
   "source": [
    "def calculate_closeness_centrality(graph, N=20, num_seeds=20):\n",
    "    \"\"\"\n",
    "    Calculate the approximate closeness centrality for a given graph.\n",
    "\n",
    "    Parameters:\n",
    "    - graph: NetworkX graph\n",
    "    - N: Number of top nodes to select (default is 20)\n",
    "    - num_seeds: Number of random seed nodes to use (default is 20)\n",
    "    \"\"\"\n",
    "    # Calculate approximate closeness centrality for each node\n",
    "    approx_closeness_centrality = approximate_closeness_centrality(graph, num_seeds)\n",
    "\n",
    "    # Initialize the list of selected nodes\n",
    "    selected_nodes = []\n",
    "\n",
    "    # Get the nodes sorted by closeness centrality\n",
    "    sorted_nodes_closeness = [node for node in sorted(approx_closeness_centrality, key=approx_closeness_centrality.get) if approx_closeness_centrality[node] > 0]\n",
    "\n",
    "    for node in sorted_nodes_closeness:\n",
    "        # Check if the node is not in the neighborhood of any previously selected nodes\n",
    "        if not any(prev_node in graph.neighbors(node) for prev_node in selected_nodes):\n",
    "            selected_nodes.append(node)\n",
    "            if len(selected_nodes) == N:\n",
    "                break\n",
    "\n",
    "    # Print the approximate closeness centrality for each of the selected nodes\n",
    "    for node in selected_nodes:\n",
    "        centrality = approx_closeness_centrality[node]\n",
    "        print(f\"The approximate closeness centrality of node {node} is {centrality}\")\n",
    "        return nx.closeness_centrality(graph)\n",
    "\n",
    "calculate_closeness_centrality(G_dblp, N=20, num_seeds=20)"
   ]
  },
  {
   "cell_type": "markdown",
   "metadata": {},
   "source": [
    "## Calculate each's node betweeness centrality (approximation)"
   ]
  },
  {
   "cell_type": "code",
   "execution_count": 9,
   "metadata": {},
   "outputs": [],
   "source": [
    "def approximate_betweenness_centrality(graph, num_seeds=20):\n",
    "    # Select a sample of random seed nodes\n",
    "    seed_nodes = random.sample(list(graph.nodes()), num_seeds)\n",
    "\n",
    "    # Initialize the betweenness centrality dictionary\n",
    "    approx_betweenness_centrality = {node: 0.0 for node in graph.nodes()}\n",
    "\n",
    "    # Perform BFS computations from each seed node and accumulate dependencies\n",
    "    for seed_node in seed_nodes:\n",
    "        paths = nx.single_source_shortest_path(graph, source=seed_node)\n",
    "        dependencies = {node: 0 for node in graph.nodes()}\n",
    "\n",
    "        for path in paths.values():\n",
    "            for node in path[1:-1]:  # Exclude the source and target nodes\n",
    "                dependencies[node] += 1\n",
    "\n",
    "        # Accumulate betweenness centrality using dependencies\n",
    "        for node in graph.nodes():\n",
    "            if node != seed_node:\n",
    "                approx_betweenness_centrality[node] += dependencies[node]\n",
    "\n",
    "    # Normalize the betweenness centrality by the number of seed nodes\n",
    "    for node in graph.nodes():\n",
    "        approx_betweenness_centrality[node] /= num_seeds\n",
    "\n",
    "    return approx_betweenness_centrality\n"
   ]
  },
  {
   "cell_type": "code",
   "execution_count": 10,
   "metadata": {},
   "outputs": [
    {
     "name": "stdout",
     "output_type": "stream",
     "text": [
      "The approximate betweenness centrality of node 3298 is 16488.5\n",
      "The approximate betweenness centrality of node 974 is 16089.4\n",
      "The approximate betweenness centrality of node 67033 is 15878.55\n",
      "The approximate betweenness centrality of node 26687 is 15872.65\n",
      "The approximate betweenness centrality of node 11331 is 15866.55\n",
      "The approximate betweenness centrality of node 66815 is 15865.75\n",
      "The approximate betweenness centrality of node 69119 is 15864.3\n",
      "The approximate betweenness centrality of node 58862 is 15864.25\n",
      "The approximate betweenness centrality of node 182183 is 15862.15\n",
      "The approximate betweenness centrality of node 205338 is 15857.55\n",
      "The approximate betweenness centrality of node 98991 is 15856.2\n",
      "The approximate betweenness centrality of node 223854 is 15854.85\n",
      "The approximate betweenness centrality of node 277767 is 15854.85\n",
      "The approximate betweenness centrality of node 136697 is 15248.8\n",
      "The approximate betweenness centrality of node 68381 is 14986.7\n",
      "The approximate betweenness centrality of node 142977 is 13920.2\n",
      "The approximate betweenness centrality of node 7127 is 13587.4\n",
      "The approximate betweenness centrality of node 1952 is 12448.05\n",
      "The approximate betweenness centrality of node 29383 is 11317.35\n",
      "The approximate betweenness centrality of node 3485 is 11204.5\n"
     ]
    }
   ],
   "source": [
    "def calculate_betweenness_centrality(graph, num_seeds=20, N=20):\n",
    "    \"\"\"\n",
    "    Calculate the approximate betweenness centrality for a given graph.\n",
    "\n",
    "    Parameters:\n",
    "    - graph: NetworkX graph\n",
    "    - num_seeds: Number of random seed nodes to use (default is 20)\n",
    "    - N: Number of top nodes to select (default is 20)\n",
    "    \"\"\"\n",
    "    # Calculate approximate betweenness centrality for each node\n",
    "    approx_betweenness_centrality = approximate_betweenness_centrality(graph, num_seeds)\n",
    "\n",
    "    # # Count the number of nodes with zero betweenness centrality\n",
    "    # num_nodes_with_zero_centrality = sum(1 for centrality in approx_betweenness_centrality.values() if centrality == 0)\n",
    "\n",
    "    # Initialize the list of selected nodes\n",
    "    selected_nodes = []\n",
    "\n",
    "    # Get the nodes sorted by betweenness centrality\n",
    "    sorted_nodes_betweenness = [node for node in sorted(approx_betweenness_centrality, reverse=True, key=approx_betweenness_centrality.get) if approx_betweenness_centrality[node] > 0]\n",
    "\n",
    "    for node in sorted_nodes_betweenness:\n",
    "        # Check if the node is not in the neighborhood of any previously selected nodes\n",
    "        if not any(prev_node in graph.neighbors(node) for prev_node in selected_nodes):\n",
    "            selected_nodes.append(node)\n",
    "            if len(selected_nodes) == N:\n",
    "                break\n",
    "\n",
    "    # Print the approximate betweenness centrality for each of the selected nodes\n",
    "    for node in selected_nodes:\n",
    "        centrality = approx_betweenness_centrality[node]\n",
    "        print(f\"The approximate betweenness centrality of node {node} is {centrality}\")\n",
    "\n",
    "    # # Print the count of nodes with zero betweenness centrality\n",
    "    # print(f\"Number of nodes with zero betweenness centrality: {num_nodes_with_zero_centrality}\")\n",
    "\n",
    "# Example usage:\n",
    "calculate_betweenness_centrality(G_dblp, num_seeds=20, N=20)\n"
   ]
  },
  {
   "cell_type": "markdown",
   "metadata": {},
   "source": [
    "# Partitioning"
   ]
  },
  {
   "cell_type": "code",
   "execution_count": 15,
   "metadata": {},
   "outputs": [],
   "source": [
    "def partition_graph(graph, num_partitions):\n",
    "    \"\"\"\n",
    "    Partition a graph using METIS.\n",
    "\n",
    "    Parameters:\n",
    "    - graph: NetworkX graph\n",
    "    - num_partitions: Number of partitions\n",
    "\n",
    "    Returns:\n",
    "    - partitions: List of sets representing the node partitions\n",
    "    - edge_cut: Number of edges cut during partitioning\n",
    "    \"\"\"\n",
    "\n",
    "    # Perform METIS graph partitioning\n",
    "    (edge_cut, parts) = metis.part_graph(graph, nparts=num_partitions)\n",
    "\n",
    "    # Create a list of sets, where each set contains the nodes in a partition\n",
    "    partition_sets = [set() for _ in range(num_partitions)]\n",
    "    for node, partition in enumerate(parts):\n",
    "        partition_sets[partition].add(node)\n",
    "\n",
    "    return partition_sets, edge_cut"
   ]
  },
  {
   "cell_type": "code",
   "execution_count": 27,
   "metadata": {},
   "outputs": [
    {
     "name": "stdout",
     "output_type": "stream",
     "text": [
      "Partition 0\n",
      "The approximate closeness centrality of node 265069 is 0.05\n",
      "The approximate closeness centrality of node 268634 is 0.05\n",
      "The approximate closeness centrality of node 6795 is 0.05\n",
      "The approximate closeness centrality of node 269156 is 0.05\n",
      "The approximate closeness centrality of node 12312 is 0.05\n",
      "The approximate closeness centrality of node 14161 is 0.05\n",
      "The approximate closeness centrality of node 279786 is 0.05\n",
      "The approximate closeness centrality of node 153884 is 0.05\n",
      "The approximate closeness centrality of node 37881 is 0.05\n",
      "The approximate closeness centrality of node 310354 is 0.05\n",
      "The approximate closeness centrality of node 311164 is 0.05\n",
      "The approximate closeness centrality of node 51938 is 0.05\n",
      "The approximate closeness centrality of node 314981 is 0.05\n",
      "The approximate closeness centrality of node 201861 is 0.05\n",
      "The approximate closeness centrality of node 80678 is 0.05\n",
      "The approximate closeness centrality of node 225752 is 0.05\n",
      "The approximate closeness centrality of node 182839 is 0.1\n",
      "The approximate closeness centrality of node 94417 is 0.1\n",
      "The approximate closeness centrality of node 225748 is 0.1\n",
      "The approximate closeness centrality of node 225749 is 0.1\n"
     ]
    },
    {
     "ename": "AttributeError",
     "evalue": "'NoneType' object has no attribute 'get'",
     "output_type": "error",
     "traceback": [
      "\u001b[0;31m---------------------------------------------------------------------------\u001b[0m",
      "\u001b[0;31mAttributeError\u001b[0m                            Traceback (most recent call last)",
      "\u001b[1;32m/Users/vanbuncha/devenv/leidenuniv/snacs/project/shortest_path_est.ipynb Cell 17\u001b[0m line \u001b[0;36m1\n\u001b[1;32m     <a href='vscode-notebook-cell:/Users/vanbuncha/devenv/leidenuniv/snacs/project/shortest_path_est.ipynb#X24sZmlsZQ%3D%3D?line=10'>11</a>\u001b[0m \u001b[39mprint\u001b[39m(\u001b[39m\"\u001b[39m\u001b[39mPartition \u001b[39m\u001b[39m\"\u001b[39m \u001b[39m+\u001b[39m \u001b[39mstr\u001b[39m(increment))\n\u001b[1;32m     <a href='vscode-notebook-cell:/Users/vanbuncha/devenv/leidenuniv/snacs/project/shortest_path_est.ipynb#X24sZmlsZQ%3D%3D?line=11'>12</a>\u001b[0m closeness_centrality \u001b[39m=\u001b[39m calculate_closeness_centrality(subgraph)\n\u001b[0;32m---> <a href='vscode-notebook-cell:/Users/vanbuncha/devenv/leidenuniv/snacs/project/shortest_path_est.ipynb#X24sZmlsZQ%3D%3D?line=12'>13</a>\u001b[0m lowest_centrality_node \u001b[39m=\u001b[39m \u001b[39mmin\u001b[39m(closeness_centrality, key\u001b[39m=\u001b[39mcloseness_centrality\u001b[39m.\u001b[39;49mget)\n\u001b[1;32m     <a href='vscode-notebook-cell:/Users/vanbuncha/devenv/leidenuniv/snacs/project/shortest_path_est.ipynb#X24sZmlsZQ%3D%3D?line=13'>14</a>\u001b[0m \u001b[39mprint\u001b[39m(\u001b[39m\"\u001b[39m\u001b[39mLowest closeness centrality node:\u001b[39m\u001b[39m\"\u001b[39m, lowest_centrality_node)\n\u001b[1;32m     <a href='vscode-notebook-cell:/Users/vanbuncha/devenv/leidenuniv/snacs/project/shortest_path_est.ipynb#X24sZmlsZQ%3D%3D?line=14'>15</a>\u001b[0m increment \u001b[39m+\u001b[39m\u001b[39m=\u001b[39m \u001b[39m1\u001b[39m\n",
      "\u001b[0;31mAttributeError\u001b[0m: 'NoneType' object has no attribute 'get'"
     ]
    }
   ],
   "source": [
    "partition_graph(G_dblp, num_partitions=10)\n",
    "# Partition the graph\n",
    "partitions, _ = partition_graph(G_dblp, num_partitions=10)\n",
    "increment = 0\n",
    "# Calculate centrality measures for each partition\n",
    "for partition in partitions:\n",
    "    # Create a subgraph for the current partition\n",
    "    subgraph = G_dblp.subgraph(partition)\n",
    "\n",
    "    # Calculate and print the centrality measures for the subgraph\n",
    "    print(\"Partition \" + str(increment))\n",
    "    closeness_centrality = calculate_closeness_centrality(subgraph)\n",
    "    lowest_centrality_node = min(closeness_centrality, key=closeness_centrality.get)\n",
    "    print(\"Lowest closeness centrality node:\", lowest_centrality_node)\n",
    "    increment += 1\n"
   ]
  }
 ],
 "metadata": {
  "kernelspec": {
   "display_name": "snacs_project",
   "language": "python",
   "name": "python3"
  },
  "language_info": {
   "codemirror_mode": {
    "name": "ipython",
    "version": 3
   },
   "file_extension": ".py",
   "mimetype": "text/x-python",
   "name": "python",
   "nbconvert_exporter": "python",
   "pygments_lexer": "ipython3",
   "version": "3.10.0"
  }
 },
 "nbformat": 4,
 "nbformat_minor": 2
}
